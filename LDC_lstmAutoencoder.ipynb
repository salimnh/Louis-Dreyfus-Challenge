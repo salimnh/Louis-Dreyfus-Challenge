{
  "nbformat": 4,
  "nbformat_minor": 0,
  "metadata": {
    "colab": {
      "name": "LDC_lstmAutoencoder.ipynb",
      "provenance": [],
      "collapsed_sections": [],
      "include_colab_link": true
    },
    "kernelspec": {
      "name": "python3",
      "display_name": "Python 3"
    }
  },
  "cells": [
    {
      "cell_type": "markdown",
      "metadata": {
        "id": "view-in-github",
        "colab_type": "text"
      },
      "source": [
        "<a href=\"https://colab.research.google.com/github/salimnh/Louis-Dreyfus-Challenge/blob/master/LDC_lstmAutoencoder.ipynb\" target=\"_parent\"><img src=\"https://colab.research.google.com/assets/colab-badge.svg\" alt=\"Open In Colab\"/></a>"
      ]
    },
    {
      "cell_type": "markdown",
      "metadata": {
        "id": "Hpwh8gBy1wg0",
        "colab_type": "text"
      },
      "source": [
        "# Study Case: Binary Classifier"
      ]
    },
    {
      "cell_type": "markdown",
      "metadata": {
        "id": "DOZ2bd3E2KcD",
        "colab_type": "text"
      },
      "source": [
        "The challenge we suggest is to build a binary classifier to forecast if a vessel in the pacific polygon (P) will go through the Panama Canal in the next 30 days. Note that this is an imbalanced dataset as most vessels do not go through the Panama canal.\n",
        "\n"
      ]
    },
    {
      "cell_type": "markdown",
      "metadata": {
        "id": "GDgLDziNuEIl",
        "colab_type": "text"
      },
      "source": [
        "### Data set\n"
      ]
    },
    {
      "cell_type": "markdown",
      "metadata": {
        "id": "VhPXNRRauJ1g",
        "colab_type": "text"
      },
      "source": [
        "**imo:** the unique identifier by vessel.\n",
        "\n",
        "**date:** the date at which the observation was made. Thanks to a preliminary script on R, we observe that the number of vessels per day in the region is stationary on two regimes. A low regime between April and June. And a high regime the rest of the year.\n",
        "About 1/3 of the vessels are allocated in the east of the canal and 2/3 in the west.\n",
        "The most important thing is that the fraction of vessels going through the canal among all vessels per day is stationary over time. This observation will allow us to no longer take into account the date and thus to simply consider ordered sequences. \n",
        "\n",
        "**longitude, latitude:** the daily position of the vessel.These observations will be transformed into polar coordinates x y z, then normalized. to avoid problems related to the coordination at -180 deg.\n",
        "\n",
        "**bearing:** the direction in which the vessel is going (computed from 2 consecutive points). this variable has too much missing data. it can be completed by a calculation on two coordinates. But it will be omitted because this information is already present in the polar coordinate sequences.\n",
        "\n",
        "**destination:** the destination input manually by the master of the vessel. This data will be omitted because in the case of bulck vessels it cannot be considered reliable.\n",
        "\n",
        "**zone:** True if the vessel is in polygon (CP), False if he is in (P). This data will be modified for use. We're trying to find out if a vessel passes through the panama. So for each vessel we will note 1 if we observe a change in status in this variable 0 otherwise. The column is called 'Tpanama'. That's the one we're trying to predict.\n",
        "We will see that the number of 1 is very small compared to the total number of observation. We have already been warned in the problem statement.\n",
        "\n",
        "**draft:** the draft of the fleet.This feature can be a good metric of the filling of a vessel. It may be important for our study.\n",
        "\n",
        "**statusLDC:** the status of the vessel (laden,ballast,unsure).\n",
        "\n",
        "**size:** the size of the vessel. 3 levels"
      ]
    },
    {
      "cell_type": "markdown",
      "metadata": {
        "id": "PCmKMrLCE6Tk",
        "colab_type": "text"
      },
      "source": [
        "### Model Idea\n",
        "The idea is to build a binary classification model. We are placed in the context of prediction of a rare event.\n",
        "\n",
        "A good framework to do this is to use an autoencoder.\n",
        "\n",
        "Also we want to capture the temporal effects, for that we will use an lstm in the multivariate case which allows to take into account the events in the long term as well as in the short term.\n",
        "\n",
        "The lstm is used with shift response data to be able to learn in advance and a sliding window.Unfortunately, this architecture does not allow learning from all ships.\n",
        "We will therefore take one reference vessel per size category (highest in term of observation per category 'size' ).\n",
        "\n",
        "The same work can be improved by performing trajectory clustering rather than vessels sizes such as grouping."
      ]
    },
    {
      "cell_type": "markdown",
      "metadata": {
        "id": "jtriFm7kIaq1",
        "colab_type": "text"
      },
      "source": [
        "### Improvement\n",
        "Use padding methods and use the 'sentiment analysis' binary classifier framework.\n",
        " \n",
        "see next script"
      ]
    },
    {
      "cell_type": "markdown",
      "metadata": {
        "id": "eznboXAV2o5P",
        "colab_type": "text"
      },
      "source": [
        "### Importing package\n"
      ]
    },
    {
      "cell_type": "code",
      "metadata": {
        "id": "EtJF2suT9yyZ",
        "colab_type": "code",
        "outputId": "9e0f2697-ff6c-451f-d470-249ee96f6111",
        "colab": {
          "base_uri": "https://localhost:8080/",
          "height": 185
        }
      },
      "source": [
        "#set up\n",
        "from google.colab import drive\n",
        "drive.mount('/content/gdrive')\n",
        "import pandas as pd\n",
        "import matplotlib.pyplot as plt\n",
        "import numpy as np\n",
        "import math\n",
        "\n",
        "%matplotlib inline\n",
        "\n",
        "import seaborn as sns\n",
        "\n",
        "from pylab import rcParams\n",
        "\n",
        "import tensorflow as tf\n",
        "from keras import optimizers, Sequential\n",
        "from keras.models import Model\n",
        "from keras.utils import plot_model\n",
        "from keras.layers import Dense, LSTM, RepeatVector, TimeDistributed\n",
        "from keras.callbacks import ModelCheckpoint, TensorBoard\n",
        "\n",
        "from sklearn.preprocessing import StandardScaler\n",
        "from sklearn.model_selection import train_test_split\n",
        "from sklearn.metrics import confusion_matrix, precision_recall_curve\n",
        "from sklearn.metrics import recall_score, classification_report, auc, roc_curve\n",
        "from sklearn.metrics import precision_recall_fscore_support, f1_score\n",
        "\n",
        "from numpy.random import seed\n",
        "seed(7)\n",
        "from tensorflow import set_random_seed\n",
        "set_random_seed(11)\n",
        "from sklearn.model_selection import train_test_split\n"
      ],
      "execution_count": 0,
      "outputs": [
        {
          "output_type": "stream",
          "text": [
            "Go to this URL in a browser: https://accounts.google.com/o/oauth2/auth?client_id=947318989803-6bn6qk8qdgf4n4g3pfee6491hc0brc4i.apps.googleusercontent.com&redirect_uri=urn%3aietf%3awg%3aoauth%3a2.0%3aoob&response_type=code&scope=email%20https%3a%2f%2fwww.googleapis.com%2fauth%2fdocs.test%20https%3a%2f%2fwww.googleapis.com%2fauth%2fdrive%20https%3a%2f%2fwww.googleapis.com%2fauth%2fdrive.photos.readonly%20https%3a%2f%2fwww.googleapis.com%2fauth%2fpeopleapi.readonly\n",
            "\n",
            "Enter your authorization code:\n",
            "··········\n",
            "Mounted at /content/gdrive\n"
          ],
          "name": "stdout"
        },
        {
          "output_type": "display_data",
          "data": {
            "text/html": [
              "<p style=\"color: red;\">\n",
              "The default version of TensorFlow in Colab will soon switch to TensorFlow 2.x.<br>\n",
              "We recommend you <a href=\"https://www.tensorflow.org/guide/migrate\" target=\"_blank\">upgrade</a> now \n",
              "or ensure your notebook will continue to use TensorFlow 1.x via the <code>%tensorflow_version 1.x</code> magic:\n",
              "<a href=\"https://colab.research.google.com/notebooks/tensorflow_version.ipynb\" target=\"_blank\">more info</a>.</p>\n"
            ],
            "text/plain": [
              "<IPython.core.display.HTML object>"
            ]
          },
          "metadata": {
            "tags": []
          }
        },
        {
          "output_type": "stream",
          "text": [
            "Using TensorFlow backend.\n"
          ],
          "name": "stderr"
        }
      ]
    },
    {
      "cell_type": "markdown",
      "metadata": {
        "id": "B1Kd0gw_3UlQ",
        "colab_type": "text"
      },
      "source": [
        "### Util Function\n",
        "\n"
      ]
    },
    {
      "cell_type": "markdown",
      "metadata": {
        "id": "QSnt8Y33dAX8",
        "colab_type": "text"
      },
      "source": [
        "Get the mid value between two point.\n",
        "Finally this function will not be used. The assumption behind is that if there are some missing lon lat for some dates we assume that the vessel is at the docks."
      ]
    },
    {
      "cell_type": "code",
      "metadata": {
        "id": "KL5Hkxh7DM9q",
        "colab_type": "code",
        "colab": {}
      },
      "source": [
        "def midpoint(x1, y1, x2, y2):\n",
        "#Input values as degrees\n",
        "\n",
        "#Convert to radians\n",
        "    lat1 = math.radians(x1)\n",
        "    lon1 = math.radians(x2)\n",
        "    lat2 = math.radians(y1)\n",
        "    lon2 = math.radians(y2)\n",
        "\n",
        "\n",
        "    bx = math.cos(lat2) * math.cos(lon2 - lon1)\n",
        "    by = math.cos(lat2) * math.sin(lon2 - lon1)\n",
        "    lat3 = math.atan2(math.sin(lat1) + math.sin(lat2), \\\n",
        "           math.sqrt((math.cos(lat1) + bx) * (math.cos(lat1) \\\n",
        "           + bx) + by**2))\n",
        "    lon3 = lon1 + math.atan2(by, math.cos(lat1) + Bx)\n",
        "\n",
        "    return [round(math.degrees(lat3), 2), round(math.degrees(lon3), 2)]\n"
      ],
      "execution_count": 0,
      "outputs": []
    },
    {
      "cell_type": "markdown",
      "metadata": {
        "id": "esGNfXQxdxB1",
        "colab_type": "text"
      },
      "source": [
        "Get the Cartesian values from lon & lat. \n",
        "This function is used to prepare Input for the lstm."
      ]
    },
    {
      "cell_type": "code",
      "metadata": {
        "id": "PXSQgU81UVyZ",
        "colab_type": "code",
        "colab": {}
      },
      "source": [
        "def get_cartesian(lat=None,lon=None):\n",
        "    lat, lon = np.deg2rad(lat), np.deg2rad(lon)\n",
        "    R = 6371 # radius of the earth\n",
        "    x = R * np.cos(lat) * np.cos(lon)\n",
        "    y = R * np.cos(lat) * np.sin(lon)\n",
        "    z = R *np.sin(lat)\n",
        "    return pd.DataFrame(list(zip(x, y, z)), \n",
        "               columns =['X', 'Y', 'Z'])"
      ],
      "execution_count": 0,
      "outputs": []
    },
    {
      "cell_type": "markdown",
      "metadata": {
        "id": "aFYQ_nuAeJu2",
        "colab_type": "text"
      },
      "source": [
        "Add the binary output (column name: Tpanama).\n",
        "= 1 if the vessel go trought Panama canal at this period.\n",
        "= 0 otherwize"
      ]
    },
    {
      "cell_type": "code",
      "metadata": {
        "id": "xn6PainmP3ic",
        "colab_type": "code",
        "colab": {}
      },
      "source": [
        "def get_Panama(all_df):\n",
        "\n",
        "  all_df['Tpanama'] = all_df['zone'].astype(int).reset_index(drop=True)\n",
        "  all_df['Tpanama']=all_df.groupby(['imo'])['Tpanama'].diff(1).fillna(0).reset_index(drop=True)\n",
        "  all_df['Tpanama']= all_df['Tpanama'].abs()\n",
        "  all_df\n",
        "  return all_df"
      ],
      "execution_count": 0,
      "outputs": []
    },
    {
      "cell_type": "markdown",
      "metadata": {
        "id": "UqO7pKG90u1Y",
        "colab_type": "text"
      },
      "source": [
        "For some vessels there are long periods of missing data. By observing the last value we realize that the ship is actually at the docks.\n",
        "We therefore want to capture this information.\n",
        "For this purpose we will fill in the missing dates with the last observed value"
      ]
    },
    {
      "cell_type": "code",
      "metadata": {
        "id": "BE40DJ4zo2Cz",
        "colab_type": "code",
        "colab": {}
      },
      "source": [
        "def fill_date(df,imo_ticker):\n",
        "  rep_df=df.loc[df.imo== imo_ticker][['Tpanama','date','latitude','longitude']].reset_index(drop=True)\n",
        "  #fill missing date\n",
        "  rep_df['date']=pd.to_datetime(rep_df['date'])\n",
        "\n",
        "  idx = pd.date_range(rep_df['date'].min(),rep_df['date'].max())\n",
        "  fill_df = pd.DataFrame({'date':idx})\n",
        "\n",
        "  fill_df = fill_df.merge(rep_df, on='date', how='left')\n",
        "  fill_df[['latitude','longitude']]=fill_df[['latitude','longitude']].fillna(method='ffill')\n",
        "  fill_df['Tpanama']=fill_df['Tpanama'].fillna(0)\n",
        "  return fill_df"
      ],
      "execution_count": 0,
      "outputs": []
    },
    {
      "cell_type": "code",
      "metadata": {
        "id": "upxGItSCuRwr",
        "colab_type": "code",
        "colab": {}
      },
      "source": [
        "def temporalize(X, y, lookback):\n",
        "    X = []\n",
        "    y = []\n",
        "    for i in range(len(input_X)-lookback-1):\n",
        "        t = []\n",
        "        for j in range(1,lookback+1):\n",
        "            # Gather past records upto the lookback period\n",
        "            t.append(input_X[[(i+j+1)], :])\n",
        "        X.append(t)\n",
        "        y.append(input_y[i+lookback+1])\n",
        "    return X, y"
      ],
      "execution_count": 0,
      "outputs": []
    },
    {
      "cell_type": "code",
      "metadata": {
        "id": "8Nulp4VlFyR2",
        "colab_type": "code",
        "colab": {}
      },
      "source": [
        "def flatten(X):\n",
        " \n",
        " \n",
        "    \n",
        "    #Input : X ,          A 3D array for lstm, where the array is sample x timesteps x features.\n",
        "    \n",
        "    #Output: flattened_X,  A 2D array, sample x features.\n",
        "  \n",
        "    flattened_X = np.empty((X.shape[0], X.shape[2]))  # sample x features array.\n",
        "    for i in range(X.shape[0]):\n",
        "        flattened_X[i] = X[i, (X.shape[1]-1), :]\n",
        "    return(flattened_X)\n",
        "\n",
        "def scale(X, scaler):\n",
        " \n",
        "    \n",
        "  #  Inputs: X,            A 3D array for lstm, where the array is sample x timesteps x features.\n",
        "  #         scaler:       A scaler object, e.g., sklearn.preprocessing.StandardScaler, sklearn.preprocessing.normalize\n",
        "    \n",
        "  # Output: X ,           Scaled 3D array.\n",
        "    \n",
        "  \n",
        "    for i in range(X.shape[0]):\n",
        "        X[i, :, :] = scaler.transform(X[i, :, :])\n",
        "        \n",
        "    return X"
      ],
      "execution_count": 0,
      "outputs": []
    },
    {
      "cell_type": "markdown",
      "metadata": {
        "id": "8geGPVoK25gG",
        "colab_type": "text"
      },
      "source": [
        "### Import Data set"
      ]
    },
    {
      "cell_type": "code",
      "metadata": {
        "id": "t5cAIUPX-Skz",
        "colab_type": "code",
        "colab": {}
      },
      "source": [
        "#import data set\n",
        "\n",
        "path2='/content/gdrive/My Drive/exoPanama.csv'\n",
        "all_df=pd.read_csv(path2)\n",
        "\n",
        "all_df.head()\n",
        "df=all_df"
      ],
      "execution_count": 0,
      "outputs": []
    },
    {
      "cell_type": "code",
      "metadata": {
        "id": "pcvavBCY_AhE",
        "colab_type": "code",
        "outputId": "466667b7-d169-4b34-a338-19759d908385",
        "colab": {
          "base_uri": "https://localhost:8080/",
          "height": 204
        }
      },
      "source": [
        "#present data set in suitable way\n",
        "#sorted by imo and date\n",
        "df= df.sort_values(by=['imo','date']).reset_index(drop=True)\n",
        "df=get_Panama(df)\n",
        "df.head()\n"
      ],
      "execution_count": 0,
      "outputs": [
        {
          "output_type": "execute_result",
          "data": {
            "text/html": [
              "<div>\n",
              "<style scoped>\n",
              "    .dataframe tbody tr th:only-of-type {\n",
              "        vertical-align: middle;\n",
              "    }\n",
              "\n",
              "    .dataframe tbody tr th {\n",
              "        vertical-align: top;\n",
              "    }\n",
              "\n",
              "    .dataframe thead th {\n",
              "        text-align: right;\n",
              "    }\n",
              "</style>\n",
              "<table border=\"1\" class=\"dataframe\">\n",
              "  <thead>\n",
              "    <tr style=\"text-align: right;\">\n",
              "      <th></th>\n",
              "      <th>Column1</th>\n",
              "      <th>imo</th>\n",
              "      <th>date</th>\n",
              "      <th>latitude</th>\n",
              "      <th>longitude</th>\n",
              "      <th>destination</th>\n",
              "      <th>bearing</th>\n",
              "      <th>size</th>\n",
              "      <th>zone</th>\n",
              "      <th>statusLDC</th>\n",
              "      <th>draft</th>\n",
              "      <th>Tpanama</th>\n",
              "    </tr>\n",
              "  </thead>\n",
              "  <tbody>\n",
              "    <tr>\n",
              "      <th>0</th>\n",
              "      <td>148121</td>\n",
              "      <td>7526572</td>\n",
              "      <td>11/23/2012</td>\n",
              "      <td>29.074500</td>\n",
              "      <td>-94.453017</td>\n",
              "      <td>NaN</td>\n",
              "      <td>NaN</td>\n",
              "      <td>PMX</td>\n",
              "      <td>True</td>\n",
              "      <td>ballast</td>\n",
              "      <td>0.0</td>\n",
              "      <td>0.0</td>\n",
              "    </tr>\n",
              "    <tr>\n",
              "      <th>1</th>\n",
              "      <td>162529</td>\n",
              "      <td>7621932</td>\n",
              "      <td>01/01/2012</td>\n",
              "      <td>29.949669</td>\n",
              "      <td>-90.025619</td>\n",
              "      <td>PANAMA</td>\n",
              "      <td>NaN</td>\n",
              "      <td>PMX</td>\n",
              "      <td>True</td>\n",
              "      <td>laden</td>\n",
              "      <td>12.1</td>\n",
              "      <td>0.0</td>\n",
              "    </tr>\n",
              "    <tr>\n",
              "      <th>2</th>\n",
              "      <td>162530</td>\n",
              "      <td>7621932</td>\n",
              "      <td>01/03/2012</td>\n",
              "      <td>29.949684</td>\n",
              "      <td>-90.025589</td>\n",
              "      <td>PANAMA</td>\n",
              "      <td>NaN</td>\n",
              "      <td>PMX</td>\n",
              "      <td>True</td>\n",
              "      <td>laden</td>\n",
              "      <td>12.1</td>\n",
              "      <td>0.0</td>\n",
              "    </tr>\n",
              "    <tr>\n",
              "      <th>3</th>\n",
              "      <td>162531</td>\n",
              "      <td>7621932</td>\n",
              "      <td>01/04/2012</td>\n",
              "      <td>29.949654</td>\n",
              "      <td>-90.025589</td>\n",
              "      <td>PANAMA</td>\n",
              "      <td>NaN</td>\n",
              "      <td>PMX</td>\n",
              "      <td>True</td>\n",
              "      <td>laden</td>\n",
              "      <td>12.1</td>\n",
              "      <td>0.0</td>\n",
              "    </tr>\n",
              "    <tr>\n",
              "      <th>4</th>\n",
              "      <td>162532</td>\n",
              "      <td>7621932</td>\n",
              "      <td>01/05/2012</td>\n",
              "      <td>29.949631</td>\n",
              "      <td>-90.025581</td>\n",
              "      <td>PANAMA</td>\n",
              "      <td>NaN</td>\n",
              "      <td>PMX</td>\n",
              "      <td>True</td>\n",
              "      <td>laden</td>\n",
              "      <td>12.1</td>\n",
              "      <td>0.0</td>\n",
              "    </tr>\n",
              "  </tbody>\n",
              "</table>\n",
              "</div>"
            ],
            "text/plain": [
              "   Column1      imo        date   latitude  ...  zone statusLDC  draft Tpanama\n",
              "0   148121  7526572  11/23/2012  29.074500  ...  True   ballast    0.0     0.0\n",
              "1   162529  7621932  01/01/2012  29.949669  ...  True     laden   12.1     0.0\n",
              "2   162530  7621932  01/03/2012  29.949684  ...  True     laden   12.1     0.0\n",
              "3   162531  7621932  01/04/2012  29.949654  ...  True     laden   12.1     0.0\n",
              "4   162532  7621932  01/05/2012  29.949631  ...  True     laden   12.1     0.0\n",
              "\n",
              "[5 rows x 12 columns]"
            ]
          },
          "metadata": {
            "tags": []
          },
          "execution_count": 9
        }
      ]
    },
    {
      "cell_type": "code",
      "metadata": {
        "id": "I6Ear1fGIyhh",
        "colab_type": "code",
        "outputId": "f3a6a997-b881-4744-b7ad-97fe8ae3d82d",
        "colab": {
          "base_uri": "https://localhost:8080/",
          "height": 204
        }
      },
      "source": [
        "#count number of observation per vessels\n",
        "n_vessel=df['imo'].value_counts()\n",
        "pd.DataFrame(n_vessel).head()"
      ],
      "execution_count": 0,
      "outputs": [
        {
          "output_type": "execute_result",
          "data": {
            "text/html": [
              "<div>\n",
              "<style scoped>\n",
              "    .dataframe tbody tr th:only-of-type {\n",
              "        vertical-align: middle;\n",
              "    }\n",
              "\n",
              "    .dataframe tbody tr th {\n",
              "        vertical-align: top;\n",
              "    }\n",
              "\n",
              "    .dataframe thead th {\n",
              "        text-align: right;\n",
              "    }\n",
              "</style>\n",
              "<table border=\"1\" class=\"dataframe\">\n",
              "  <thead>\n",
              "    <tr style=\"text-align: right;\">\n",
              "      <th></th>\n",
              "      <th>imo</th>\n",
              "    </tr>\n",
              "  </thead>\n",
              "  <tbody>\n",
              "    <tr>\n",
              "      <th>7700726</th>\n",
              "      <td>1943</td>\n",
              "    </tr>\n",
              "    <tr>\n",
              "      <th>8312215</th>\n",
              "      <td>1705</td>\n",
              "    </tr>\n",
              "    <tr>\n",
              "      <th>9138094</th>\n",
              "      <td>1672</td>\n",
              "    </tr>\n",
              "    <tr>\n",
              "      <th>9034925</th>\n",
              "      <td>1601</td>\n",
              "    </tr>\n",
              "    <tr>\n",
              "      <th>9115523</th>\n",
              "      <td>1532</td>\n",
              "    </tr>\n",
              "  </tbody>\n",
              "</table>\n",
              "</div>"
            ],
            "text/plain": [
              "          imo\n",
              "7700726  1943\n",
              "8312215  1705\n",
              "9138094  1672\n",
              "9034925  1601\n",
              "9115523  1532"
            ]
          },
          "metadata": {
            "tags": []
          },
          "execution_count": 10
        }
      ]
    },
    {
      "cell_type": "code",
      "metadata": {
        "id": "sbbST1wi7PWX",
        "colab_type": "code",
        "outputId": "96cd0968-3d55-4551-b832-92196cd3ac4a",
        "colab": {
          "base_uri": "https://localhost:8080/",
          "height": 170
        }
      },
      "source": [
        "n_vessel.describe()"
      ],
      "execution_count": 0,
      "outputs": [
        {
          "output_type": "execute_result",
          "data": {
            "text/plain": [
              "count    3601.000000\n",
              "mean      157.068037\n",
              "std       157.127327\n",
              "min         1.000000\n",
              "25%        53.000000\n",
              "50%       117.000000\n",
              "75%       218.000000\n",
              "max      1943.000000\n",
              "Name: imo, dtype: float64"
            ]
          },
          "metadata": {
            "tags": []
          },
          "execution_count": 11
        }
      ]
    },
    {
      "cell_type": "code",
      "metadata": {
        "id": "G2nJVHh6DeSB",
        "colab_type": "code",
        "outputId": "c3dbd653-7af6-4dda-83d5-1ce98ce9ff21",
        "colab": {
          "base_uri": "https://localhost:8080/",
          "height": 282
        }
      },
      "source": [
        "\n",
        "pd.Series.hist(n_vessel,)\n",
        "\n"
      ],
      "execution_count": 0,
      "outputs": [
        {
          "output_type": "execute_result",
          "data": {
            "text/plain": [
              "<matplotlib.axes._subplots.AxesSubplot at 0x7fcd6f85c240>"
            ]
          },
          "metadata": {
            "tags": []
          },
          "execution_count": 12
        },
        {
          "output_type": "display_data",
          "data": {
            "image/png": "[encoded data removed]",
            "text/plain": [
              "<Figure size 432x288 with 1 Axes>"
            ]
          },
          "metadata": {
            "tags": []
          }
        }
      ]
    },
    {
      "cell_type": "code",
      "metadata": {
        "id": "7fWM3xndI0hZ",
        "colab_type": "code",
        "outputId": "b9c20fe5-400f-4b6a-e1c7-6d25499a30d0",
        "colab": {
          "base_uri": "https://localhost:8080/",
          "height": 204
        }
      },
      "source": [
        "vessels_size_n=df.groupby(['imo','size']).size().reset_index()\n",
        "vessels_size_n.head()"
      ],
      "execution_count": 0,
      "outputs": [
        {
          "output_type": "execute_result",
          "data": {
            "text/html": [
              "<div>\n",
              "<style scoped>\n",
              "    .dataframe tbody tr th:only-of-type {\n",
              "        vertical-align: middle;\n",
              "    }\n",
              "\n",
              "    .dataframe tbody tr th {\n",
              "        vertical-align: top;\n",
              "    }\n",
              "\n",
              "    .dataframe thead th {\n",
              "        text-align: right;\n",
              "    }\n",
              "</style>\n",
              "<table border=\"1\" class=\"dataframe\">\n",
              "  <thead>\n",
              "    <tr style=\"text-align: right;\">\n",
              "      <th></th>\n",
              "      <th>imo</th>\n",
              "      <th>size</th>\n",
              "      <th>0</th>\n",
              "    </tr>\n",
              "  </thead>\n",
              "  <tbody>\n",
              "    <tr>\n",
              "      <th>0</th>\n",
              "      <td>7526572</td>\n",
              "      <td>PMX</td>\n",
              "      <td>1</td>\n",
              "    </tr>\n",
              "    <tr>\n",
              "      <th>1</th>\n",
              "      <td>7621932</td>\n",
              "      <td>PMX</td>\n",
              "      <td>173</td>\n",
              "    </tr>\n",
              "    <tr>\n",
              "      <th>2</th>\n",
              "      <td>7700726</td>\n",
              "      <td>PMX</td>\n",
              "      <td>1943</td>\n",
              "    </tr>\n",
              "    <tr>\n",
              "      <th>3</th>\n",
              "      <td>7915412</td>\n",
              "      <td>PMX</td>\n",
              "      <td>558</td>\n",
              "    </tr>\n",
              "    <tr>\n",
              "      <th>4</th>\n",
              "      <td>7926148</td>\n",
              "      <td>PMX</td>\n",
              "      <td>1206</td>\n",
              "    </tr>\n",
              "  </tbody>\n",
              "</table>\n",
              "</div>"
            ],
            "text/plain": [
              "       imo size     0\n",
              "0  7526572  PMX     1\n",
              "1  7621932  PMX   173\n",
              "2  7700726  PMX  1943\n",
              "3  7915412  PMX   558\n",
              "4  7926148  PMX  1206"
            ]
          },
          "metadata": {
            "tags": []
          },
          "execution_count": 13
        }
      ]
    },
    {
      "cell_type": "code",
      "metadata": {
        "id": "4DKK5jCa3tgL",
        "colab_type": "code",
        "outputId": "cc2fa3e9-37f1-4ad0-a4d5-5214f2c00493",
        "colab": {
          "base_uri": "https://localhost:8080/",
          "height": 204
        }
      },
      "source": [
        "#Filter data set to find vessels that crossed panama canal\n",
        "isPanama = set(df[(df['Tpanama'] == 1 )]['imo'])\n",
        "Panamadf=df[df['imo'].isin(isPanama)]\n",
        "\n",
        "#whithin the bucket of vessel that crossed the panama count number of observation\n",
        "Count_v=Panamadf.groupby(['imo','size']).size().reset_index()\n",
        "Count_v.head()"
      ],
      "execution_count": 0,
      "outputs": [
        {
          "output_type": "execute_result",
          "data": {
            "text/html": [
              "<div>\n",
              "<style scoped>\n",
              "    .dataframe tbody tr th:only-of-type {\n",
              "        vertical-align: middle;\n",
              "    }\n",
              "\n",
              "    .dataframe tbody tr th {\n",
              "        vertical-align: top;\n",
              "    }\n",
              "\n",
              "    .dataframe thead th {\n",
              "        text-align: right;\n",
              "    }\n",
              "</style>\n",
              "<table border=\"1\" class=\"dataframe\">\n",
              "  <thead>\n",
              "    <tr style=\"text-align: right;\">\n",
              "      <th></th>\n",
              "      <th>imo</th>\n",
              "      <th>size</th>\n",
              "      <th>0</th>\n",
              "    </tr>\n",
              "  </thead>\n",
              "  <tbody>\n",
              "    <tr>\n",
              "      <th>0</th>\n",
              "      <td>7621932</td>\n",
              "      <td>PMX</td>\n",
              "      <td>173</td>\n",
              "    </tr>\n",
              "    <tr>\n",
              "      <th>1</th>\n",
              "      <td>7915412</td>\n",
              "      <td>PMX</td>\n",
              "      <td>558</td>\n",
              "    </tr>\n",
              "    <tr>\n",
              "      <th>2</th>\n",
              "      <td>7926174</td>\n",
              "      <td>PMX</td>\n",
              "      <td>1298</td>\n",
              "    </tr>\n",
              "    <tr>\n",
              "      <th>3</th>\n",
              "      <td>8005276</td>\n",
              "      <td>PMX</td>\n",
              "      <td>39</td>\n",
              "    </tr>\n",
              "    <tr>\n",
              "      <th>4</th>\n",
              "      <td>8007793</td>\n",
              "      <td>PMX</td>\n",
              "      <td>1109</td>\n",
              "    </tr>\n",
              "  </tbody>\n",
              "</table>\n",
              "</div>"
            ],
            "text/plain": [
              "       imo size     0\n",
              "0  7621932  PMX   173\n",
              "1  7915412  PMX   558\n",
              "2  7926174  PMX  1298\n",
              "3  8005276  PMX    39\n",
              "4  8007793  PMX  1109"
            ]
          },
          "metadata": {
            "tags": []
          },
          "execution_count": 14
        }
      ]
    },
    {
      "cell_type": "code",
      "metadata": {
        "id": "CwTpMSzGMG2l",
        "colab_type": "code",
        "outputId": "a9b45c79-4ba5-445e-fe39-8f0ac488574e",
        "colab": {
          "base_uri": "https://localhost:8080/",
          "height": 419
        }
      },
      "source": [
        "#We are looking for one representative vessel per size category\n",
        "vessel_p=Panamadf.groupby(['imo','size'], as_index = False)['Tpanama'].agg(['sum','count']).reset_index()\n",
        "vessel_p['Ratio'] = vessel_p['sum']/vessel_p['count']\n",
        "vessel_p.head(100)"
      ],
      "execution_count": 0,
      "outputs": [
        {
          "output_type": "execute_result",
          "data": {
            "text/html": [
              "<div>\n",
              "<style scoped>\n",
              "    .dataframe tbody tr th:only-of-type {\n",
              "        vertical-align: middle;\n",
              "    }\n",
              "\n",
              "    .dataframe tbody tr th {\n",
              "        vertical-align: top;\n",
              "    }\n",
              "\n",
              "    .dataframe thead th {\n",
              "        text-align: right;\n",
              "    }\n",
              "</style>\n",
              "<table border=\"1\" class=\"dataframe\">\n",
              "  <thead>\n",
              "    <tr style=\"text-align: right;\">\n",
              "      <th></th>\n",
              "      <th>imo</th>\n",
              "      <th>size</th>\n",
              "      <th>sum</th>\n",
              "      <th>count</th>\n",
              "      <th>Ratio</th>\n",
              "    </tr>\n",
              "  </thead>\n",
              "  <tbody>\n",
              "    <tr>\n",
              "      <th>0</th>\n",
              "      <td>7621932</td>\n",
              "      <td>PMX</td>\n",
              "      <td>3.0</td>\n",
              "      <td>173</td>\n",
              "      <td>0.017341</td>\n",
              "    </tr>\n",
              "    <tr>\n",
              "      <th>1</th>\n",
              "      <td>7915412</td>\n",
              "      <td>PMX</td>\n",
              "      <td>54.0</td>\n",
              "      <td>558</td>\n",
              "      <td>0.096774</td>\n",
              "    </tr>\n",
              "    <tr>\n",
              "      <th>2</th>\n",
              "      <td>7926174</td>\n",
              "      <td>PMX</td>\n",
              "      <td>58.0</td>\n",
              "      <td>1298</td>\n",
              "      <td>0.044684</td>\n",
              "    </tr>\n",
              "    <tr>\n",
              "      <th>3</th>\n",
              "      <td>8005276</td>\n",
              "      <td>PMX</td>\n",
              "      <td>4.0</td>\n",
              "      <td>39</td>\n",
              "      <td>0.102564</td>\n",
              "    </tr>\n",
              "    <tr>\n",
              "      <th>4</th>\n",
              "      <td>8007793</td>\n",
              "      <td>PMX</td>\n",
              "      <td>42.0</td>\n",
              "      <td>1109</td>\n",
              "      <td>0.037872</td>\n",
              "    </tr>\n",
              "    <tr>\n",
              "      <th>...</th>\n",
              "      <td>...</td>\n",
              "      <td>...</td>\n",
              "      <td>...</td>\n",
              "      <td>...</td>\n",
              "      <td>...</td>\n",
              "    </tr>\n",
              "    <tr>\n",
              "      <th>95</th>\n",
              "      <td>9077109</td>\n",
              "      <td>PMX</td>\n",
              "      <td>4.0</td>\n",
              "      <td>207</td>\n",
              "      <td>0.019324</td>\n",
              "    </tr>\n",
              "    <tr>\n",
              "      <th>96</th>\n",
              "      <td>9077226</td>\n",
              "      <td>PMX</td>\n",
              "      <td>6.0</td>\n",
              "      <td>172</td>\n",
              "      <td>0.034884</td>\n",
              "    </tr>\n",
              "    <tr>\n",
              "      <th>97</th>\n",
              "      <td>9077238</td>\n",
              "      <td>PMX</td>\n",
              "      <td>5.0</td>\n",
              "      <td>135</td>\n",
              "      <td>0.037037</td>\n",
              "    </tr>\n",
              "    <tr>\n",
              "      <th>98</th>\n",
              "      <td>9079133</td>\n",
              "      <td>PMX</td>\n",
              "      <td>224.0</td>\n",
              "      <td>627</td>\n",
              "      <td>0.357257</td>\n",
              "    </tr>\n",
              "    <tr>\n",
              "      <th>99</th>\n",
              "      <td>9080649</td>\n",
              "      <td>PMX</td>\n",
              "      <td>64.0</td>\n",
              "      <td>176</td>\n",
              "      <td>0.363636</td>\n",
              "    </tr>\n",
              "  </tbody>\n",
              "</table>\n",
              "<p>100 rows × 5 columns</p>\n",
              "</div>"
            ],
            "text/plain": [
              "        imo size    sum  count     Ratio\n",
              "0   7621932  PMX    3.0    173  0.017341\n",
              "1   7915412  PMX   54.0    558  0.096774\n",
              "2   7926174  PMX   58.0   1298  0.044684\n",
              "3   8005276  PMX    4.0     39  0.102564\n",
              "4   8007793  PMX   42.0   1109  0.037872\n",
              "..      ...  ...    ...    ...       ...\n",
              "95  9077109  PMX    4.0    207  0.019324\n",
              "96  9077226  PMX    6.0    172  0.034884\n",
              "97  9077238  PMX    5.0    135  0.037037\n",
              "98  9079133  PMX  224.0    627  0.357257\n",
              "99  9080649  PMX   64.0    176  0.363636\n",
              "\n",
              "[100 rows x 5 columns]"
            ]
          },
          "metadata": {
            "tags": []
          },
          "execution_count": 15
        }
      ]
    },
    {
      "cell_type": "code",
      "metadata": {
        "id": "9Fe9D7rWO0Ue",
        "colab_type": "code",
        "outputId": "29999d63-0767-439d-db75-e29e14493540",
        "colab": {
          "base_uri": "https://localhost:8080/",
          "height": 142
        }
      },
      "source": [
        "#find the bigest by size\n",
        "top_vessel_p=vessel_p.sort_values('count', ascending=False).drop_duplicates(['size'])\n",
        "top_vessel_p.head()\n"
      ],
      "execution_count": 0,
      "outputs": [
        {
          "output_type": "execute_result",
          "data": {
            "text/html": [
              "<div>\n",
              "<style scoped>\n",
              "    .dataframe tbody tr th:only-of-type {\n",
              "        vertical-align: middle;\n",
              "    }\n",
              "\n",
              "    .dataframe tbody tr th {\n",
              "        vertical-align: top;\n",
              "    }\n",
              "\n",
              "    .dataframe thead th {\n",
              "        text-align: right;\n",
              "    }\n",
              "</style>\n",
              "<table border=\"1\" class=\"dataframe\">\n",
              "  <thead>\n",
              "    <tr style=\"text-align: right;\">\n",
              "      <th></th>\n",
              "      <th>imo</th>\n",
              "      <th>size</th>\n",
              "      <th>sum</th>\n",
              "      <th>count</th>\n",
              "      <th>Ratio</th>\n",
              "    </tr>\n",
              "  </thead>\n",
              "  <tbody>\n",
              "    <tr>\n",
              "      <th>12</th>\n",
              "      <td>8312215</td>\n",
              "      <td>PMX</td>\n",
              "      <td>100.0</td>\n",
              "      <td>1705</td>\n",
              "      <td>0.058651</td>\n",
              "    </tr>\n",
              "    <tr>\n",
              "      <th>199</th>\n",
              "      <td>9148611</td>\n",
              "      <td>CAPE</td>\n",
              "      <td>36.0</td>\n",
              "      <td>724</td>\n",
              "      <td>0.049724</td>\n",
              "    </tr>\n",
              "    <tr>\n",
              "      <th>771</th>\n",
              "      <td>9325295</td>\n",
              "      <td>VLOC</td>\n",
              "      <td>9.0</td>\n",
              "      <td>195</td>\n",
              "      <td>0.046154</td>\n",
              "    </tr>\n",
              "  </tbody>\n",
              "</table>\n",
              "</div>"
            ],
            "text/plain": [
              "         imo  size    sum  count     Ratio\n",
              "12   8312215   PMX  100.0   1705  0.058651\n",
              "199  9148611  CAPE   36.0    724  0.049724\n",
              "771  9325295  VLOC    9.0    195  0.046154"
            ]
          },
          "metadata": {
            "tags": []
          },
          "execution_count": 16
        }
      ]
    },
    {
      "cell_type": "code",
      "metadata": {
        "id": "JCAHwE19P3Ga",
        "colab_type": "code",
        "colab": {}
      },
      "source": [
        "#Find representative vessels for each category\n",
        "\n",
        "rep_PMX=top_vessel_p.imo[top_vessel_p['size']==\"PMX\"].values[0]\n",
        "rep_CAPE=top_vessel_p.imo[top_vessel_p['size']==\"CAPE\"].values[0]\n",
        "rep_VLOC=top_vessel_p.imo[top_vessel_p['size']==\"VLOC\"].values[0]\n"
      ],
      "execution_count": 0,
      "outputs": []
    },
    {
      "cell_type": "code",
      "metadata": {
        "id": "06s3sXbzSnRU",
        "colab_type": "code",
        "outputId": "d4ae4764-9745-4709-b16c-c46ab7c63feb",
        "colab": {
          "base_uri": "https://localhost:8080/",
          "height": 204
        }
      },
      "source": [
        "#Select a vessel\n",
        "rep_vessel=rep_PMX\n",
        "\n",
        "rep_df=df.loc[df.imo== rep_vessel][['Tpanama','date','latitude','longitude']].reset_index(drop=True)\n",
        "rep_df.head()"
      ],
      "execution_count": 0,
      "outputs": [
        {
          "output_type": "execute_result",
          "data": {
            "text/html": [
              "<div>\n",
              "<style scoped>\n",
              "    .dataframe tbody tr th:only-of-type {\n",
              "        vertical-align: middle;\n",
              "    }\n",
              "\n",
              "    .dataframe tbody tr th {\n",
              "        vertical-align: top;\n",
              "    }\n",
              "\n",
              "    .dataframe thead th {\n",
              "        text-align: right;\n",
              "    }\n",
              "</style>\n",
              "<table border=\"1\" class=\"dataframe\">\n",
              "  <thead>\n",
              "    <tr style=\"text-align: right;\">\n",
              "      <th></th>\n",
              "      <th>Tpanama</th>\n",
              "      <th>date</th>\n",
              "      <th>latitude</th>\n",
              "      <th>longitude</th>\n",
              "    </tr>\n",
              "  </thead>\n",
              "  <tbody>\n",
              "    <tr>\n",
              "      <th>0</th>\n",
              "      <td>0.0</td>\n",
              "      <td>01/01/2012</td>\n",
              "      <td>20.769934</td>\n",
              "      <td>-86.733734</td>\n",
              "    </tr>\n",
              "    <tr>\n",
              "      <th>1</th>\n",
              "      <td>0.0</td>\n",
              "      <td>01/01/2013</td>\n",
              "      <td>22.416117</td>\n",
              "      <td>-84.709033</td>\n",
              "    </tr>\n",
              "    <tr>\n",
              "      <th>2</th>\n",
              "      <td>0.0</td>\n",
              "      <td>01/01/2014</td>\n",
              "      <td>23.262287</td>\n",
              "      <td>-87.851647</td>\n",
              "    </tr>\n",
              "    <tr>\n",
              "      <th>3</th>\n",
              "      <td>0.0</td>\n",
              "      <td>01/01/2016</td>\n",
              "      <td>22.906900</td>\n",
              "      <td>-87.523500</td>\n",
              "    </tr>\n",
              "    <tr>\n",
              "      <th>4</th>\n",
              "      <td>0.0</td>\n",
              "      <td>01/01/2017</td>\n",
              "      <td>29.944400</td>\n",
              "      <td>-90.141900</td>\n",
              "    </tr>\n",
              "  </tbody>\n",
              "</table>\n",
              "</div>"
            ],
            "text/plain": [
              "   Tpanama        date   latitude  longitude\n",
              "0      0.0  01/01/2012  20.769934 -86.733734\n",
              "1      0.0  01/01/2013  22.416117 -84.709033\n",
              "2      0.0  01/01/2014  23.262287 -87.851647\n",
              "3      0.0  01/01/2016  22.906900 -87.523500\n",
              "4      0.0  01/01/2017  29.944400 -90.141900"
            ]
          },
          "metadata": {
            "tags": []
          },
          "execution_count": 22
        }
      ]
    },
    {
      "cell_type": "code",
      "metadata": {
        "id": "ECL2W4GFAe51",
        "colab_type": "code",
        "outputId": "38bf422b-45c8-4c61-ad78-1d1f1aa7f475",
        "colab": {
          "base_uri": "https://localhost:8080/",
          "height": 204
        }
      },
      "source": [
        "#fill missing dates\n",
        "fill_df=fill_date(df,rep_vessel)\n",
        "fill_df.head()"
      ],
      "execution_count": 0,
      "outputs": [
        {
          "output_type": "execute_result",
          "data": {
            "text/html": [
              "<div>\n",
              "<style scoped>\n",
              "    .dataframe tbody tr th:only-of-type {\n",
              "        vertical-align: middle;\n",
              "    }\n",
              "\n",
              "    .dataframe tbody tr th {\n",
              "        vertical-align: top;\n",
              "    }\n",
              "\n",
              "    .dataframe thead th {\n",
              "        text-align: right;\n",
              "    }\n",
              "</style>\n",
              "<table border=\"1\" class=\"dataframe\">\n",
              "  <thead>\n",
              "    <tr style=\"text-align: right;\">\n",
              "      <th></th>\n",
              "      <th>date</th>\n",
              "      <th>Tpanama</th>\n",
              "      <th>latitude</th>\n",
              "      <th>longitude</th>\n",
              "    </tr>\n",
              "  </thead>\n",
              "  <tbody>\n",
              "    <tr>\n",
              "      <th>0</th>\n",
              "      <td>2012-01-01</td>\n",
              "      <td>0.0</td>\n",
              "      <td>20.769934</td>\n",
              "      <td>-86.733734</td>\n",
              "    </tr>\n",
              "    <tr>\n",
              "      <th>1</th>\n",
              "      <td>2012-01-02</td>\n",
              "      <td>0.0</td>\n",
              "      <td>28.463751</td>\n",
              "      <td>-89.196587</td>\n",
              "    </tr>\n",
              "    <tr>\n",
              "      <th>2</th>\n",
              "      <td>2012-01-03</td>\n",
              "      <td>0.0</td>\n",
              "      <td>28.463751</td>\n",
              "      <td>-89.196587</td>\n",
              "    </tr>\n",
              "    <tr>\n",
              "      <th>3</th>\n",
              "      <td>2012-01-04</td>\n",
              "      <td>0.0</td>\n",
              "      <td>30.044867</td>\n",
              "      <td>-90.837486</td>\n",
              "    </tr>\n",
              "    <tr>\n",
              "      <th>4</th>\n",
              "      <td>2012-01-05</td>\n",
              "      <td>0.0</td>\n",
              "      <td>30.041983</td>\n",
              "      <td>-90.602715</td>\n",
              "    </tr>\n",
              "  </tbody>\n",
              "</table>\n",
              "</div>"
            ],
            "text/plain": [
              "        date  Tpanama   latitude  longitude\n",
              "0 2012-01-01      0.0  20.769934 -86.733734\n",
              "1 2012-01-02      0.0  28.463751 -89.196587\n",
              "2 2012-01-03      0.0  28.463751 -89.196587\n",
              "3 2012-01-04      0.0  30.044867 -90.837486\n",
              "4 2012-01-05      0.0  30.041983 -90.602715"
            ]
          },
          "metadata": {
            "tags": []
          },
          "execution_count": 23
        }
      ]
    },
    {
      "cell_type": "code",
      "metadata": {
        "id": "lCKvA0JJYWT6",
        "colab_type": "code",
        "outputId": "9eececdb-22b4-46cc-a13a-595d8e87a877",
        "colab": {
          "base_uri": "https://localhost:8080/",
          "height": 204
        }
      },
      "source": [
        "# get x y z coord from lon,lat\n",
        "cord=get_cartesian(lat=fill_df[fill_df.columns[2]],lon=fill_df[fill_df.columns[3]])\n",
        "fill_df[['X','Y','Z']] = cord[['X','Y','Z']]\n",
        "\n",
        "#final data set\n",
        "clean_df = fill_df.drop(columns=['latitude', 'longitude','date'])\n",
        "clean_df.head()\n"
      ],
      "execution_count": 0,
      "outputs": [
        {
          "output_type": "execute_result",
          "data": {
            "text/html": [
              "<div>\n",
              "<style scoped>\n",
              "    .dataframe tbody tr th:only-of-type {\n",
              "        vertical-align: middle;\n",
              "    }\n",
              "\n",
              "    .dataframe tbody tr th {\n",
              "        vertical-align: top;\n",
              "    }\n",
              "\n",
              "    .dataframe thead th {\n",
              "        text-align: right;\n",
              "    }\n",
              "</style>\n",
              "<table border=\"1\" class=\"dataframe\">\n",
              "  <thead>\n",
              "    <tr style=\"text-align: right;\">\n",
              "      <th></th>\n",
              "      <th>Tpanama</th>\n",
              "      <th>X</th>\n",
              "      <th>Y</th>\n",
              "      <th>Z</th>\n",
              "    </tr>\n",
              "  </thead>\n",
              "  <tbody>\n",
              "    <tr>\n",
              "      <th>0</th>\n",
              "      <td>0.0</td>\n",
              "      <td>339.40512</td>\n",
              "      <td>-5947.283894</td>\n",
              "      <td>2259.260818</td>\n",
              "    </tr>\n",
              "    <tr>\n",
              "      <th>1</th>\n",
              "      <td>0.0</td>\n",
              "      <td>78.53394</td>\n",
              "      <td>-5600.315382</td>\n",
              "      <td>3036.435581</td>\n",
              "    </tr>\n",
              "    <tr>\n",
              "      <th>2</th>\n",
              "      <td>0.0</td>\n",
              "      <td>78.53394</td>\n",
              "      <td>-5600.315382</td>\n",
              "      <td>3036.435581</td>\n",
              "    </tr>\n",
              "    <tr>\n",
              "      <th>3</th>\n",
              "      <td>0.0</td>\n",
              "      <td>-80.60859</td>\n",
              "      <td>-5514.362553</td>\n",
              "      <td>3189.819570</td>\n",
              "    </tr>\n",
              "    <tr>\n",
              "      <th>4</th>\n",
              "      <td>0.0</td>\n",
              "      <td>-58.01434</td>\n",
              "      <td>-5514.807095</td>\n",
              "      <td>3189.541979</td>\n",
              "    </tr>\n",
              "  </tbody>\n",
              "</table>\n",
              "</div>"
            ],
            "text/plain": [
              "   Tpanama          X            Y            Z\n",
              "0      0.0  339.40512 -5947.283894  2259.260818\n",
              "1      0.0   78.53394 -5600.315382  3036.435581\n",
              "2      0.0   78.53394 -5600.315382  3036.435581\n",
              "3      0.0  -80.60859 -5514.362553  3189.819570\n",
              "4      0.0  -58.01434 -5514.807095  3189.541979"
            ]
          },
          "metadata": {
            "tags": []
          },
          "execution_count": 24
        }
      ]
    },
    {
      "cell_type": "code",
      "metadata": {
        "id": "-_kfc243oz36",
        "colab_type": "code",
        "colab": {}
      },
      "source": [
        "######################################################################################################\n",
        "######################################################################################################\n",
        "######################################################################################################\n",
        "######################################################################################################\n",
        "######################################################################################################\n",
        "######################################################################################################"
      ],
      "execution_count": 0,
      "outputs": []
    },
    {
      "cell_type": "markdown",
      "metadata": {
        "id": "5WWQQ92YGoVd",
        "colab_type": "text"
      },
      "source": [
        "### Model\n"
      ]
    },
    {
      "cell_type": "code",
      "metadata": {
        "id": "dKbgLT6XqgG9",
        "colab_type": "code",
        "colab": {}
      },
      "source": [
        "\n",
        "\n",
        "SEED = 123 #used to help randomly select the data points\n",
        "DATA_SPLIT_PCT = 0.2\n",
        "\n",
        "rcParams['figure.figsize'] = 8, 6\n",
        "LABELS = [\"Normal\",\"Panama\"]\n"
      ],
      "execution_count": 0,
      "outputs": []
    },
    {
      "cell_type": "code",
      "metadata": {
        "id": "jyeOacsiqxm0",
        "colab_type": "code",
        "colab": {}
      },
      "source": [
        "sign = lambda x: (1, -1)[x < 0]\n",
        "\n",
        "   # This function will shift the binary labels in the dataframe.\n",
        "   \n",
        "\n",
        "\n",
        "    \n",
        "   # Inputs:\n",
        "   # df dataframe with a binary labeled column. \n",
        "   #         This labeled column is named 'Tpanama'.\n",
        "   #    shift_by An integer denoting the number of rows to shift.\n",
        "    \n",
        "   # Output\n",
        "   # df       A dataframe with the binary labels shifted by shift.\n",
        "\n",
        "def curve_shift(df, shift_by):\n",
        "    vector = df['Tpanama'].copy()\n",
        "    for s in range(abs(shift_by)):\n",
        "        tmp = vector.shift(sign(shift_by))\n",
        "        tmp = tmp.fillna(0)\n",
        "        vector += tmp\n",
        "    labelcol = 'Tpanama'\n",
        "    # Add vector to the df\n",
        "    df.insert(loc=0, column=labelcol+'tmp', value=vector)\n",
        "    # Remove the rows with labelcol == 1.\n",
        "    df = df.drop(df[df[labelcol] == 1].index)\n",
        "    # Drop labelcol and rename the tmp col as labelcol\n",
        "    df = df.drop(labelcol, axis=1)\n",
        "    df = df.rename(columns={labelcol+'tmp': labelcol})\n",
        "    # Make the labelcol binary\n",
        "    df.loc[df[labelcol] > 0, labelcol] = 1\n",
        "\n",
        "    return df"
      ],
      "execution_count": 0,
      "outputs": []
    },
    {
      "cell_type": "code",
      "metadata": {
        "id": "D33M9Gndq8d9",
        "colab_type": "code",
        "outputId": "90b5da7c-24bb-4c2f-dd0e-90b208e8c19e",
        "colab": {
          "base_uri": "https://localhost:8080/",
          "height": 200
        }
      },
      "source": [
        "# Positive labeled rows before shifting.\n",
        "one_indexes = clean_df.index[clean_df['Tpanama'] == 1]\n",
        "\n",
        "# converts the df to a numpy array\n",
        "input_X = clean_df.loc[:, clean_df.columns != 'Tpanama'].values  \n",
        "input_y = clean_df['Tpanama'].values\n",
        "\n",
        "# number of features\n",
        "n_features = input_X.shape[1]  \n",
        "\n",
        "\n",
        "# Shift the response column y by 30 rows to do a 30 days ahead prediction.\n",
        "clean_df = curve_shift(clean_df, shift_by = -30)\n",
        "clean_df.head()\n"
      ],
      "execution_count": 0,
      "outputs": [
        {
          "output_type": "execute_result",
          "data": {
            "text/html": [
              "<div>\n",
              "<style scoped>\n",
              "    .dataframe tbody tr th:only-of-type {\n",
              "        vertical-align: middle;\n",
              "    }\n",
              "\n",
              "    .dataframe tbody tr th {\n",
              "        vertical-align: top;\n",
              "    }\n",
              "\n",
              "    .dataframe thead th {\n",
              "        text-align: right;\n",
              "    }\n",
              "</style>\n",
              "<table border=\"1\" class=\"dataframe\">\n",
              "  <thead>\n",
              "    <tr style=\"text-align: right;\">\n",
              "      <th></th>\n",
              "      <th>Tpanama</th>\n",
              "      <th>X</th>\n",
              "      <th>Y</th>\n",
              "      <th>Z</th>\n",
              "    </tr>\n",
              "  </thead>\n",
              "  <tbody>\n",
              "    <tr>\n",
              "      <th>0</th>\n",
              "      <td>0.0</td>\n",
              "      <td>339.40512</td>\n",
              "      <td>-5947.283894</td>\n",
              "      <td>2259.260818</td>\n",
              "    </tr>\n",
              "    <tr>\n",
              "      <th>1</th>\n",
              "      <td>0.0</td>\n",
              "      <td>78.53394</td>\n",
              "      <td>-5600.315382</td>\n",
              "      <td>3036.435581</td>\n",
              "    </tr>\n",
              "    <tr>\n",
              "      <th>2</th>\n",
              "      <td>0.0</td>\n",
              "      <td>78.53394</td>\n",
              "      <td>-5600.315382</td>\n",
              "      <td>3036.435581</td>\n",
              "    </tr>\n",
              "    <tr>\n",
              "      <th>3</th>\n",
              "      <td>0.0</td>\n",
              "      <td>-80.60859</td>\n",
              "      <td>-5514.362553</td>\n",
              "      <td>3189.819570</td>\n",
              "    </tr>\n",
              "    <tr>\n",
              "      <th>4</th>\n",
              "      <td>0.0</td>\n",
              "      <td>-58.01434</td>\n",
              "      <td>-5514.807095</td>\n",
              "      <td>3189.541979</td>\n",
              "    </tr>\n",
              "  </tbody>\n",
              "</table>\n",
              "</div>"
            ],
            "text/plain": [
              "   Tpanama          X            Y            Z\n",
              "0      0.0  339.40512 -5947.283894  2259.260818\n",
              "1      0.0   78.53394 -5600.315382  3036.435581\n",
              "2      0.0   78.53394 -5600.315382  3036.435581\n",
              "3      0.0  -80.60859 -5514.362553  3189.819570\n",
              "4      0.0  -58.01434 -5514.807095  3189.541979"
            ]
          },
          "metadata": {
            "tags": []
          },
          "execution_count": 172
        }
      ]
    },
    {
      "cell_type": "code",
      "metadata": {
        "id": "c2TwHDiguWEO",
        "colab_type": "code",
        "colab": {}
      },
      "source": [
        "# Fixe lookback\n",
        "lookback = 30\n",
        "\n",
        "# Temporalize the data\n",
        "X, y = temporalize(X = input_X, y = input_y, lookback = lookback)\n",
        "\n"
      ],
      "execution_count": 0,
      "outputs": []
    },
    {
      "cell_type": "code",
      "metadata": {
        "id": "Q_wk-md_Fogb",
        "colab_type": "code",
        "colab": {}
      },
      "source": [
        "#Split train/test set\n",
        "X_train, X_test, y_train, y_test = train_test_split(np.array(X), np.array(y), test_size=DATA_SPLIT_PCT, random_state=SEED)\n",
        "X_train, X_valid, y_train, y_valid = train_test_split(X_train, y_train, test_size=DATA_SPLIT_PCT, random_state=SEED)"
      ],
      "execution_count": 0,
      "outputs": []
    },
    {
      "cell_type": "code",
      "metadata": {
        "id": "9Kcs0lhAFp84",
        "colab_type": "code",
        "colab": {}
      },
      "source": [
        "# discriminate data \n",
        "# we will fisrt train only 'Tpnama'=0\n",
        "X_train_y0 = X_train[y_train==0]\n",
        "X_train_y1 = X_train[y_train==1]\n",
        "X_valid_y0 = X_valid[y_valid==0]\n",
        "X_valid_y1 = X_valid[y_valid==1]"
      ],
      "execution_count": 0,
      "outputs": []
    },
    {
      "cell_type": "code",
      "metadata": {
        "id": "7S2TUOX7FukJ",
        "colab_type": "code",
        "colab": {}
      },
      "source": [
        "X_train = X_train.reshape(X_train.shape[0], lookback, n_features)\n",
        "X_train_y0 = X_train_y0.reshape(X_train_y0.shape[0], lookback, n_features)\n",
        "X_train_y1 = X_train_y1.reshape(X_train_y1.shape[0], lookback, n_features)\n",
        "X_valid = X_valid.reshape(X_valid.shape[0], lookback, n_features)\n",
        "X_valid_y0 = X_valid_y0.reshape(X_valid_y0.shape[0], lookback, n_features)\n",
        "X_valid_y1 = X_valid_y1.reshape(X_valid_y1.shape[0], lookback, n_features)\n",
        "X_test = X_test.reshape(X_test.shape[0], lookback, n_features)"
      ],
      "execution_count": 0,
      "outputs": []
    },
    {
      "cell_type": "code",
      "metadata": {
        "id": "XOzUQAPaFziR",
        "colab_type": "code",
        "colab": {}
      },
      "source": [
        "# Initialize a scaler using the training data.\n",
        "scaler = StandardScaler().fit(flatten(X_train_y0))"
      ],
      "execution_count": 0,
      "outputs": []
    },
    {
      "cell_type": "markdown",
      "metadata": {
        "id": "NziMuZVaKdb8",
        "colab_type": "text"
      },
      "source": [
        ""
      ]
    },
    {
      "cell_type": "code",
      "metadata": {
        "id": "RGwuF5ZHF2hd",
        "colab_type": "code",
        "colab": {}
      },
      "source": [
        "X_train_y0_scaled = scale(X_train_y0, scaler)"
      ],
      "execution_count": 0,
      "outputs": []
    },
    {
      "cell_type": "code",
      "metadata": {
        "id": "Qgj8jdQYF5A-",
        "colab_type": "code",
        "outputId": "d22a1cc5-6eba-4b8d-ab14-0ee5a0c3c6b2",
        "colab": {
          "base_uri": "https://localhost:8080/",
          "height": 52
        }
      },
      "source": [
        "a = flatten(X_train_y0_scaled)\n",
        "print('colwise mean', np.mean(a, axis=0).round(6))\n",
        "print('colwise variance', np.var(a, axis=0))"
      ],
      "execution_count": 0,
      "outputs": [
        {
          "output_type": "stream",
          "text": [
            "colwise mean [-0.  0.  0.]\n",
            "colwise variance [1. 1. 1.]\n"
          ],
          "name": "stdout"
        }
      ]
    },
    {
      "cell_type": "code",
      "metadata": {
        "id": "tCaj9SywGGaU",
        "colab_type": "code",
        "colab": {}
      },
      "source": [
        "X_valid_scaled = scale(X_valid, scaler)\n",
        "X_valid_y0_scaled = scale(X_valid_y0, scaler)\n",
        "X_test_scaled = scale(X_test, scaler)"
      ],
      "execution_count": 0,
      "outputs": []
    },
    {
      "cell_type": "code",
      "metadata": {
        "id": "--Tyou6yGIH7",
        "colab_type": "code",
        "colab": {}
      },
      "source": [
        "# equal to the lookback\n",
        "timesteps =  X_train_y0_scaled.shape[1] \n",
        "\n",
        "# 3 features  (draft could be added, here omited for simplicity)\n",
        "n_features =  X_train_y0_scaled.shape[2] \n",
        "\n",
        "epochs = 100\n",
        "batch = 64\n",
        "lr = 0.0001"
      ],
      "execution_count": 0,
      "outputs": []
    },
    {
      "cell_type": "code",
      "metadata": {
        "id": "v4Ogvkk6GMSj",
        "colab_type": "code",
        "outputId": "5d70e490-7761-4014-a8e6-6399c1ce7495",
        "colab": {
          "base_uri": "https://localhost:8080/",
          "height": 372
        }
      },
      "source": [
        "# Model\n",
        "lstm_autoencoder = Sequential()\n",
        "# Encoder\n",
        "lstm_autoencoder.add(LSTM(128, activation='relu', input_shape=(timesteps, n_features), return_sequences=True))\n",
        "lstm_autoencoder.add(LSTM(64, activation='relu', return_sequences=False))\n",
        "lstm_autoencoder.add(RepeatVector(timesteps))\n",
        "# Decoder\n",
        "lstm_autoencoder.add(LSTM(64, activation='relu', return_sequences=True))\n",
        "lstm_autoencoder.add(LSTM(128, activation='relu', return_sequences=True))\n",
        "lstm_autoencoder.add(TimeDistributed(Dense(n_features)))\n",
        "\n",
        "lstm_autoencoder.summary()"
      ],
      "execution_count": 0,
      "outputs": [
        {
          "output_type": "stream",
          "text": [
            "Model: \"sequential_5\"\n",
            "_________________________________________________________________\n",
            "Layer (type)                 Output Shape              Param #   \n",
            "=================================================================\n",
            "lstm_17 (LSTM)               (None, 30, 128)           67584     \n",
            "_________________________________________________________________\n",
            "lstm_18 (LSTM)               (None, 64)                49408     \n",
            "_________________________________________________________________\n",
            "repeat_vector_5 (RepeatVecto (None, 30, 64)            0         \n",
            "_________________________________________________________________\n",
            "lstm_19 (LSTM)               (None, 30, 64)            33024     \n",
            "_________________________________________________________________\n",
            "lstm_20 (LSTM)               (None, 30, 128)           98816     \n",
            "_________________________________________________________________\n",
            "time_distributed_5 (TimeDist (None, 30, 3)             387       \n",
            "=================================================================\n",
            "Total params: 249,219\n",
            "Trainable params: 249,219\n",
            "Non-trainable params: 0\n",
            "_________________________________________________________________\n"
          ],
          "name": "stdout"
        }
      ]
    },
    {
      "cell_type": "code",
      "metadata": {
        "id": "35L9_PU8GUEj",
        "colab_type": "code",
        "outputId": "b73210ef-0e69-423d-decc-f0f018e61aec",
        "colab": {
          "base_uri": "https://localhost:8080/",
          "height": 1000
        }
      },
      "source": [
        "adam = optimizers.Adam(lr)\n",
        "lstm_autoencoder.compile(loss='mse', optimizer=adam)\n",
        "\n",
        "cp = ModelCheckpoint(filepath=\"lstm_autoencoder_classifier.h5\",\n",
        "                               save_best_only=True,\n",
        "                               verbose=0)\n",
        "\n",
        "tb = TensorBoard(log_dir='./logs',\n",
        "                histogram_freq=0,\n",
        "                write_graph=True,\n",
        "                write_images=True)\n",
        "\n",
        "lstm_autoencoder_history = lstm_autoencoder.fit(X_train_y0_scaled, X_train_y0_scaled, \n",
        "                                                epochs=epochs, \n",
        "                                                batch_size=batch, \n",
        "                                                validation_data=(X_valid_y0_scaled, X_valid_y0_scaled),\n",
        "                                                verbose=2).history"
      ],
      "execution_count": 0,
      "outputs": [
        {
          "output_type": "stream",
          "text": [
            "Train on 1162 samples, validate on 286 samples\n",
            "Epoch 1/100\n",
            " - 12s - loss: 0.9741 - val_loss: 0.9114\n",
            "Epoch 2/100\n",
            " - 4s - loss: 0.9575 - val_loss: 0.8872\n",
            "Epoch 3/100\n",
            " - 4s - loss: 0.8950 - val_loss: 0.7179\n",
            "Epoch 4/100\n",
            " - 4s - loss: 0.7434 - val_loss: 0.7065\n",
            "Epoch 5/100\n",
            " - 4s - loss: 0.6424 - val_loss: 0.5732\n",
            "Epoch 6/100\n",
            " - 4s - loss: 0.5492 - val_loss: 0.5400\n",
            "Epoch 7/100\n",
            " - 4s - loss: 0.5120 - val_loss: 0.5097\n",
            "Epoch 8/100\n",
            " - 4s - loss: 0.4738 - val_loss: 0.4796\n",
            "Epoch 9/100\n",
            " - 4s - loss: 0.4488 - val_loss: 0.4608\n",
            "Epoch 10/100\n",
            " - 4s - loss: 0.4288 - val_loss: 0.6011\n",
            "Epoch 11/100\n",
            " - 4s - loss: 0.4218 - val_loss: 0.4473\n",
            "Epoch 12/100\n",
            " - 4s - loss: 0.4123 - val_loss: 0.4444\n",
            "Epoch 13/100\n",
            " - 4s - loss: 0.4072 - val_loss: 0.4328\n",
            "Epoch 14/100\n",
            " - 4s - loss: 0.3998 - val_loss: 0.4307\n",
            "Epoch 15/100\n",
            " - 4s - loss: 0.4141 - val_loss: 0.4604\n",
            "Epoch 16/100\n",
            " - 4s - loss: 0.4165 - val_loss: 0.4445\n",
            "Epoch 17/100\n",
            " - 4s - loss: 0.4014 - val_loss: 0.4360\n",
            "Epoch 18/100\n",
            " - 4s - loss: 0.3950 - val_loss: 0.4290\n",
            "Epoch 19/100\n",
            " - 4s - loss: 0.3898 - val_loss: 0.4248\n",
            "Epoch 20/100\n",
            " - 4s - loss: 0.3850 - val_loss: 0.4180\n",
            "Epoch 21/100\n",
            " - 4s - loss: 0.3793 - val_loss: 0.4094\n",
            "Epoch 22/100\n",
            " - 4s - loss: 0.3747 - val_loss: 0.4049\n",
            "Epoch 23/100\n",
            " - 4s - loss: 0.3710 - val_loss: 0.4042\n",
            "Epoch 24/100\n",
            " - 4s - loss: 0.3874 - val_loss: 0.4182\n",
            "Epoch 25/100\n",
            " - 4s - loss: 0.3812 - val_loss: 0.4060\n",
            "Epoch 26/100\n",
            " - 4s - loss: 0.3722 - val_loss: 0.3987\n",
            "Epoch 27/100\n",
            " - 4s - loss: 0.3662 - val_loss: 0.3913\n",
            "Epoch 28/100\n",
            " - 4s - loss: 0.3608 - val_loss: 0.3829\n",
            "Epoch 29/100\n",
            " - 4s - loss: 0.3562 - val_loss: 0.3818\n",
            "Epoch 30/100\n",
            " - 4s - loss: 0.3594 - val_loss: 0.3932\n",
            "Epoch 31/100\n",
            " - 4s - loss: 0.3598 - val_loss: 0.3819\n",
            "Epoch 32/100\n",
            " - 4s - loss: 0.3524 - val_loss: 0.3751\n",
            "Epoch 33/100\n",
            " - 4s - loss: 0.3487 - val_loss: 0.3739\n",
            "Epoch 34/100\n",
            " - 4s - loss: 0.3454 - val_loss: 0.3649\n",
            "Epoch 35/100\n",
            " - 4s - loss: 0.3418 - val_loss: 0.3590\n",
            "Epoch 36/100\n",
            " - 4s - loss: 0.3416 - val_loss: 0.3614\n",
            "Epoch 37/100\n",
            " - 4s - loss: 0.3413 - val_loss: 0.3538\n",
            "Epoch 38/100\n",
            " - 4s - loss: 0.3361 - val_loss: 0.3740\n",
            "Epoch 39/100\n",
            " - 4s - loss: 0.3430 - val_loss: 0.3718\n",
            "Epoch 40/100\n",
            " - 4s - loss: 0.3443 - val_loss: 0.3646\n",
            "Epoch 41/100\n",
            " - 4s - loss: 0.3375 - val_loss: 0.3576\n",
            "Epoch 42/100\n",
            " - 4s - loss: 0.3352 - val_loss: 0.3553\n",
            "Epoch 43/100\n",
            " - 4s - loss: 0.3334 - val_loss: 0.3511\n",
            "Epoch 44/100\n",
            " - 4s - loss: 0.3322 - val_loss: 0.3446\n",
            "Epoch 45/100\n",
            " - 4s - loss: 0.3290 - val_loss: 0.3399\n",
            "Epoch 46/100\n",
            " - 4s - loss: 0.3265 - val_loss: 0.3369\n",
            "Epoch 47/100\n",
            " - 4s - loss: 0.3256 - val_loss: 0.3381\n",
            "Epoch 48/100\n",
            " - 4s - loss: 0.3249 - val_loss: 0.3376\n",
            "Epoch 49/100\n",
            " - 4s - loss: 0.3249 - val_loss: 0.3348\n",
            "Epoch 50/100\n",
            " - 4s - loss: 0.3236 - val_loss: 0.3319\n",
            "Epoch 51/100\n",
            " - 4s - loss: 0.3232 - val_loss: 0.3352\n",
            "Epoch 52/100\n",
            " - 4s - loss: 0.3232 - val_loss: 0.3324\n",
            "Epoch 53/100\n",
            " - 4s - loss: 0.3240 - val_loss: 0.3313\n",
            "Epoch 54/100\n",
            " - 4s - loss: 0.3208 - val_loss: 0.3287\n",
            "Epoch 55/100\n",
            " - 4s - loss: 0.3194 - val_loss: 0.3267\n",
            "Epoch 56/100\n",
            " - 4s - loss: 0.3188 - val_loss: 0.3286\n",
            "Epoch 57/100\n",
            " - 4s - loss: 0.3188 - val_loss: 0.3270\n",
            "Epoch 58/100\n",
            " - 4s - loss: 0.3237 - val_loss: 0.3343\n",
            "Epoch 59/100\n",
            " - 4s - loss: 0.3208 - val_loss: 0.3291\n",
            "Epoch 60/100\n",
            " - 4s - loss: 0.3216 - val_loss: 0.3322\n",
            "Epoch 61/100\n",
            " - 4s - loss: 0.3198 - val_loss: 0.3257\n",
            "Epoch 62/100\n",
            " - 4s - loss: 0.3172 - val_loss: 0.3228\n",
            "Epoch 63/100\n",
            " - 4s - loss: 0.3161 - val_loss: 0.3213\n",
            "Epoch 64/100\n",
            " - 4s - loss: 0.3151 - val_loss: 0.3302\n",
            "Epoch 65/100\n",
            " - 4s - loss: 0.3161 - val_loss: 0.3208\n",
            "Epoch 66/100\n",
            " - 4s - loss: 0.3140 - val_loss: 0.3193\n",
            "Epoch 67/100\n",
            " - 4s - loss: 0.3129 - val_loss: 0.3175\n",
            "Epoch 68/100\n",
            " - 4s - loss: 0.3127 - val_loss: 0.3179\n",
            "Epoch 69/100\n",
            " - 4s - loss: 0.3128 - val_loss: 0.3188\n",
            "Epoch 70/100\n",
            " - 4s - loss: 0.3127 - val_loss: 0.3173\n",
            "Epoch 71/100\n",
            " - 4s - loss: 0.3146 - val_loss: 0.3233\n",
            "Epoch 72/100\n",
            " - 4s - loss: 0.3133 - val_loss: 0.3208\n",
            "Epoch 73/100\n",
            " - 4s - loss: 0.3132 - val_loss: 0.3154\n",
            "Epoch 74/100\n",
            " - 4s - loss: 0.3109 - val_loss: 0.3150\n",
            "Epoch 75/100\n",
            " - 4s - loss: 0.3088 - val_loss: 0.3130\n",
            "Epoch 76/100\n",
            " - 4s - loss: 0.3079 - val_loss: 0.3119\n",
            "Epoch 77/100\n",
            " - 4s - loss: 0.3074 - val_loss: 0.3148\n",
            "Epoch 78/100\n",
            " - 4s - loss: 0.3073 - val_loss: 0.3115\n",
            "Epoch 79/100\n",
            " - 4s - loss: 0.3053 - val_loss: 0.3100\n",
            "Epoch 80/100\n",
            " - 4s - loss: 0.3047 - val_loss: 0.3079\n",
            "Epoch 81/100\n",
            " - 4s - loss: 0.3033 - val_loss: 0.3119\n",
            "Epoch 82/100\n",
            " - 4s - loss: 0.3043 - val_loss: 0.3096\n",
            "Epoch 83/100\n",
            " - 4s - loss: 0.3033 - val_loss: 0.3088\n",
            "Epoch 84/100\n",
            " - 4s - loss: 0.3051 - val_loss: 0.3232\n",
            "Epoch 85/100\n",
            " - 4s - loss: 0.3581 - val_loss: 0.3994\n",
            "Epoch 86/100\n",
            " - 4s - loss: 0.3574 - val_loss: 0.3854\n",
            "Epoch 87/100\n",
            " - 4s - loss: 0.3457 - val_loss: 0.3748\n",
            "Epoch 88/100\n",
            " - 4s - loss: 0.3382 - val_loss: 0.3681\n",
            "Epoch 89/100\n",
            " - 4s - loss: 0.3335 - val_loss: 0.3609\n",
            "Epoch 90/100\n",
            " - 4s - loss: 0.3302 - val_loss: 0.3606\n",
            "Epoch 91/100\n",
            " - 4s - loss: 0.3277 - val_loss: 0.3452\n",
            "Epoch 92/100\n",
            " - 4s - loss: 0.3246 - val_loss: 0.3398\n",
            "Epoch 93/100\n",
            " - 4s - loss: 0.3191 - val_loss: 0.3324\n",
            "Epoch 94/100\n",
            " - 4s - loss: 0.3158 - val_loss: 0.3284\n",
            "Epoch 95/100\n",
            " - 4s - loss: 0.3122 - val_loss: 0.3242\n",
            "Epoch 96/100\n",
            " - 4s - loss: 0.3111 - val_loss: 0.3265\n",
            "Epoch 97/100\n",
            " - 4s - loss: 0.3118 - val_loss: 0.3204\n",
            "Epoch 98/100\n",
            " - 4s - loss: 0.3090 - val_loss: 0.3206\n",
            "Epoch 99/100\n",
            " - 4s - loss: 0.3080 - val_loss: 0.3175\n",
            "Epoch 100/100\n",
            " - 4s - loss: 0.3064 - val_loss: 0.3158\n"
          ],
          "name": "stdout"
        }
      ]
    },
    {
      "cell_type": "code",
      "metadata": {
        "id": "gIqBgD7HGZob",
        "colab_type": "code",
        "outputId": "9280998c-9466-4719-c9d7-ec2108573521",
        "colab": {
          "base_uri": "https://localhost:8080/",
          "height": 232
        }
      },
      "source": [
        "plt.plot(lstm_autoencoder_history['loss'], linewidth=2, label='Train')\n",
        "plt.plot(lstm_autoencoder_history['val_loss'], linewidth=2, label='Valid')\n",
        "plt.legend(loc='upper right')\n",
        "plt.title('Model loss')\n",
        "plt.ylabel('Loss')\n",
        "plt.xlabel('Epoch')\n",
        "plt.show()"
      ],
      "execution_count": 0,
      "outputs": [
        {
          "output_type": "error",
          "ename": "NameError",
          "evalue": "ignored",
          "traceback": [
            "\u001b[0;31m---------------------------------------------------------------------------\u001b[0m",
            "\u001b[0;31mNameError\u001b[0m                                 Traceback (most recent call last)",
            "\u001b[0;32m<ipython-input-27-812a27621789>\u001b[0m in \u001b[0;36m<module>\u001b[0;34m()\u001b[0m\n\u001b[0;32m----> 1\u001b[0;31m \u001b[0mplt\u001b[0m\u001b[0;34m.\u001b[0m\u001b[0mplot\u001b[0m\u001b[0;34m(\u001b[0m\u001b[0mlstm_autoencoder_history\u001b[0m\u001b[0;34m[\u001b[0m\u001b[0;34m'loss'\u001b[0m\u001b[0;34m]\u001b[0m\u001b[0;34m,\u001b[0m \u001b[0mlinewidth\u001b[0m\u001b[0;34m=\u001b[0m\u001b[0;36m2\u001b[0m\u001b[0;34m,\u001b[0m \u001b[0mlabel\u001b[0m\u001b[0;34m=\u001b[0m\u001b[0;34m'Train'\u001b[0m\u001b[0;34m)\u001b[0m\u001b[0;34m\u001b[0m\u001b[0;34m\u001b[0m\u001b[0m\n\u001b[0m\u001b[1;32m      2\u001b[0m \u001b[0mplt\u001b[0m\u001b[0;34m.\u001b[0m\u001b[0mplot\u001b[0m\u001b[0;34m(\u001b[0m\u001b[0mlstm_autoencoder_history\u001b[0m\u001b[0;34m[\u001b[0m\u001b[0;34m'val_loss'\u001b[0m\u001b[0;34m]\u001b[0m\u001b[0;34m,\u001b[0m \u001b[0mlinewidth\u001b[0m\u001b[0;34m=\u001b[0m\u001b[0;36m2\u001b[0m\u001b[0;34m,\u001b[0m \u001b[0mlabel\u001b[0m\u001b[0;34m=\u001b[0m\u001b[0;34m'Valid'\u001b[0m\u001b[0;34m)\u001b[0m\u001b[0;34m\u001b[0m\u001b[0;34m\u001b[0m\u001b[0m\n\u001b[1;32m      3\u001b[0m \u001b[0mplt\u001b[0m\u001b[0;34m.\u001b[0m\u001b[0mlegend\u001b[0m\u001b[0;34m(\u001b[0m\u001b[0mloc\u001b[0m\u001b[0;34m=\u001b[0m\u001b[0;34m'upper right'\u001b[0m\u001b[0;34m)\u001b[0m\u001b[0;34m\u001b[0m\u001b[0;34m\u001b[0m\u001b[0m\n\u001b[1;32m      4\u001b[0m \u001b[0mplt\u001b[0m\u001b[0;34m.\u001b[0m\u001b[0mtitle\u001b[0m\u001b[0;34m(\u001b[0m\u001b[0;34m'Model loss'\u001b[0m\u001b[0;34m)\u001b[0m\u001b[0;34m\u001b[0m\u001b[0;34m\u001b[0m\u001b[0m\n\u001b[1;32m      5\u001b[0m \u001b[0mplt\u001b[0m\u001b[0;34m.\u001b[0m\u001b[0mylabel\u001b[0m\u001b[0;34m(\u001b[0m\u001b[0;34m'Loss'\u001b[0m\u001b[0;34m)\u001b[0m\u001b[0;34m\u001b[0m\u001b[0;34m\u001b[0m\u001b[0m\n",
            "\u001b[0;31mNameError\u001b[0m: name 'lstm_autoencoder_history' is not defined"
          ]
        }
      ]
    },
    {
      "cell_type": "code",
      "metadata": {
        "id": "uS8-F6JDGdFV",
        "colab_type": "code",
        "outputId": "ac5d6c5a-6508-44fa-dc28-dee74a72505b",
        "colab": {
          "base_uri": "https://localhost:8080/",
          "height": 404
        }
      },
      "source": [
        "valid_x_predictions = lstm_autoencoder.predict(X_valid_scaled)\n",
        "mse = np.mean(np.power(flatten(X_valid_scaled) - flatten(valid_x_predictions), 2), axis=1)\n",
        "\n",
        "error_df = pd.DataFrame({'Reconstruction_error': mse,\n",
        "                        'True_class': y_valid.tolist()})\n",
        "\n",
        "precision_rt, recall_rt, threshold_rt = precision_recall_curve(error_df.True_class, error_df.Reconstruction_error)\n",
        "plt.plot(threshold_rt, precision_rt[1:], label=\"Precision\",linewidth=5)\n",
        "plt.plot(threshold_rt, recall_rt[1:], label=\"Recall\",linewidth=5)\n",
        "plt.title('Precision and recall for different threshold values')\n",
        "plt.xlabel('Threshold')\n",
        "plt.ylabel('Precision/Recall')\n",
        "plt.legend()\n",
        "plt.show()"
      ],
      "execution_count": 0,
      "outputs": [
        {
          "output_type": "display_data",
          "data": {
            "image/png": "[encoded data removed]",
            "text/plain": [
              "<Figure size 576x432 with 1 Axes>"
            ]
          },
          "metadata": {
            "tags": []
          }
        }
      ]
    },
    {
      "cell_type": "code",
      "metadata": {
        "id": "iENcXt34GlW1",
        "colab_type": "code",
        "outputId": "8a1a32be-3e54-4d4c-85a0-7a8b49fc1af8",
        "colab": {
          "base_uri": "https://localhost:8080/",
          "height": 232
        }
      },
      "source": [
        "test_x_predictions = lstm_autoencoder.predict(X_test_scaled)\n",
        "mse = np.mean(np.power(flatten(X_test_scaled) - flatten(test_x_predictions), 2), axis=1)\n",
        "\n",
        "error_df = pd.DataFrame({'Reconstruction_error': mse,\n",
        "                        'True_class': y_test.tolist()})\n",
        "\n",
        "threshold_fixed = 0.9\n",
        "groups = error_df.groupby('True_class')\n",
        "fig, ax = plt.subplots()\n",
        "\n",
        "for name, group in groups:\n",
        "    ax.plot(group.index, group.Reconstruction_error, marker='o', ms=3.5, linestyle='',\n",
        "            label= \"Panama\" if name == 1 else \"Normal\")\n",
        "ax.hlines(threshold_fixed, ax.get_xlim()[0], ax.get_xlim()[1], colors=\"r\", zorder=100, label='Threshold')\n",
        "ax.legend()\n",
        "plt.title(\"Reconstruction error for different classes\")\n",
        "plt.ylabel(\"Reconstruction error\")\n",
        "plt.xlabel(\"Data point index\")\n",
        "plt.show();"
      ],
      "execution_count": 0,
      "outputs": [
        {
          "output_type": "error",
          "ename": "NameError",
          "evalue": "ignored",
          "traceback": [
            "\u001b[0;31m---------------------------------------------------------------------------\u001b[0m",
            "\u001b[0;31mNameError\u001b[0m                                 Traceback (most recent call last)",
            "\u001b[0;32m<ipython-input-26-8e0d0a7bcb88>\u001b[0m in \u001b[0;36m<module>\u001b[0;34m()\u001b[0m\n\u001b[0;32m----> 1\u001b[0;31m \u001b[0mtest_x_predictions\u001b[0m \u001b[0;34m=\u001b[0m \u001b[0mlstm_autoencoder\u001b[0m\u001b[0;34m.\u001b[0m\u001b[0mpredict\u001b[0m\u001b[0;34m(\u001b[0m\u001b[0mX_test_scaled\u001b[0m\u001b[0;34m)\u001b[0m\u001b[0;34m\u001b[0m\u001b[0;34m\u001b[0m\u001b[0m\n\u001b[0m\u001b[1;32m      2\u001b[0m \u001b[0mmse\u001b[0m \u001b[0;34m=\u001b[0m \u001b[0mnp\u001b[0m\u001b[0;34m.\u001b[0m\u001b[0mmean\u001b[0m\u001b[0;34m(\u001b[0m\u001b[0mnp\u001b[0m\u001b[0;34m.\u001b[0m\u001b[0mpower\u001b[0m\u001b[0;34m(\u001b[0m\u001b[0mflatten\u001b[0m\u001b[0;34m(\u001b[0m\u001b[0mX_test_scaled\u001b[0m\u001b[0;34m)\u001b[0m \u001b[0;34m-\u001b[0m \u001b[0mflatten\u001b[0m\u001b[0;34m(\u001b[0m\u001b[0mtest_x_predictions\u001b[0m\u001b[0;34m)\u001b[0m\u001b[0;34m,\u001b[0m \u001b[0;36m2\u001b[0m\u001b[0;34m)\u001b[0m\u001b[0;34m,\u001b[0m \u001b[0maxis\u001b[0m\u001b[0;34m=\u001b[0m\u001b[0;36m1\u001b[0m\u001b[0;34m)\u001b[0m\u001b[0;34m\u001b[0m\u001b[0;34m\u001b[0m\u001b[0m\n\u001b[1;32m      3\u001b[0m \u001b[0;34m\u001b[0m\u001b[0m\n\u001b[1;32m      4\u001b[0m error_df = pd.DataFrame({'Reconstruction_error': mse,\n\u001b[1;32m      5\u001b[0m                         'True_class': y_test.tolist()})\n",
            "\u001b[0;31mNameError\u001b[0m: name 'lstm_autoencoder' is not defined"
          ]
        }
      ]
    },
    {
      "cell_type": "code",
      "metadata": {
        "id": "wvbi7DSkGmKS",
        "colab_type": "code",
        "outputId": "de85a367-1da2-4c1c-f12f-955a702ec925",
        "colab": {
          "base_uri": "https://localhost:8080/",
          "height": 232
        }
      },
      "source": [
        "pred_y = [1 if e > threshold_fixed else 0 for e in error_df.Reconstruction_error.values]\n",
        "conf_matrix = confusion_matrix(error_df.True_class, pred_y)\n",
        "\n",
        "plt.figure(figsize=(6, 6))\n",
        "sns.heatmap(conf_matrix, xticklabels=LABELS, yticklabels=LABELS, annot=True, fmt=\"d\");\n",
        "plt.title(\"Confusion matrix\")\n",
        "plt.ylabel('True class')\n",
        "plt.xlabel('Predicted class')\n",
        "plt.show()"
      ],
      "execution_count": 0,
      "outputs": [
        {
          "output_type": "error",
          "ename": "NameError",
          "evalue": "ignored",
          "traceback": [
            "\u001b[0;31m---------------------------------------------------------------------------\u001b[0m",
            "\u001b[0;31mNameError\u001b[0m                                 Traceback (most recent call last)",
            "\u001b[0;32m<ipython-input-25-1c758a30f9b8>\u001b[0m in \u001b[0;36m<module>\u001b[0;34m()\u001b[0m\n\u001b[0;32m----> 1\u001b[0;31m \u001b[0mpred_y\u001b[0m \u001b[0;34m=\u001b[0m \u001b[0;34m[\u001b[0m\u001b[0;36m1\u001b[0m \u001b[0;32mif\u001b[0m \u001b[0me\u001b[0m \u001b[0;34m>\u001b[0m \u001b[0mthreshold_fixed\u001b[0m \u001b[0;32melse\u001b[0m \u001b[0;36m0\u001b[0m \u001b[0;32mfor\u001b[0m \u001b[0me\u001b[0m \u001b[0;32min\u001b[0m \u001b[0merror_df\u001b[0m\u001b[0;34m.\u001b[0m\u001b[0mReconstruction_error\u001b[0m\u001b[0;34m.\u001b[0m\u001b[0mvalues\u001b[0m\u001b[0;34m]\u001b[0m\u001b[0;34m\u001b[0m\u001b[0;34m\u001b[0m\u001b[0m\n\u001b[0m\u001b[1;32m      2\u001b[0m \u001b[0mconf_matrix\u001b[0m \u001b[0;34m=\u001b[0m \u001b[0mconfusion_matrix\u001b[0m\u001b[0;34m(\u001b[0m\u001b[0merror_df\u001b[0m\u001b[0;34m.\u001b[0m\u001b[0mTrue_class\u001b[0m\u001b[0;34m,\u001b[0m \u001b[0mpred_y\u001b[0m\u001b[0;34m)\u001b[0m\u001b[0;34m\u001b[0m\u001b[0;34m\u001b[0m\u001b[0m\n\u001b[1;32m      3\u001b[0m \u001b[0;34m\u001b[0m\u001b[0m\n\u001b[1;32m      4\u001b[0m \u001b[0mplt\u001b[0m\u001b[0;34m.\u001b[0m\u001b[0mfigure\u001b[0m\u001b[0;34m(\u001b[0m\u001b[0mfigsize\u001b[0m\u001b[0;34m=\u001b[0m\u001b[0;34m(\u001b[0m\u001b[0;36m6\u001b[0m\u001b[0;34m,\u001b[0m \u001b[0;36m6\u001b[0m\u001b[0;34m)\u001b[0m\u001b[0;34m)\u001b[0m\u001b[0;34m\u001b[0m\u001b[0;34m\u001b[0m\u001b[0m\n\u001b[1;32m      5\u001b[0m \u001b[0msns\u001b[0m\u001b[0;34m.\u001b[0m\u001b[0mheatmap\u001b[0m\u001b[0;34m(\u001b[0m\u001b[0mconf_matrix\u001b[0m\u001b[0;34m,\u001b[0m \u001b[0mxticklabels\u001b[0m\u001b[0;34m=\u001b[0m\u001b[0mLABELS\u001b[0m\u001b[0;34m,\u001b[0m \u001b[0myticklabels\u001b[0m\u001b[0;34m=\u001b[0m\u001b[0mLABELS\u001b[0m\u001b[0;34m,\u001b[0m \u001b[0mannot\u001b[0m\u001b[0;34m=\u001b[0m\u001b[0;32mTrue\u001b[0m\u001b[0;34m,\u001b[0m \u001b[0mfmt\u001b[0m\u001b[0;34m=\u001b[0m\u001b[0;34m\"d\"\u001b[0m\u001b[0;34m)\u001b[0m\u001b[0;34m;\u001b[0m\u001b[0;34m\u001b[0m\u001b[0;34m\u001b[0m\u001b[0m\n",
            "\u001b[0;31mNameError\u001b[0m: name 'error_df' is not defined"
          ]
        }
      ]
    },
    {
      "cell_type": "code",
      "metadata": {
        "id": "h8l1oY8U1MBI",
        "colab_type": "code",
        "outputId": "7d245cf9-64bb-4c03-9e1e-37ddf3d3ba67",
        "colab": {
          "base_uri": "https://localhost:8080/",
          "height": 52
        }
      },
      "source": [
        "conf_matrix"
      ],
      "execution_count": 0,
      "outputs": [
        {
          "output_type": "execute_result",
          "data": {
            "text/plain": [
              "array([[357,   7],\n",
              "       [  5,  14]])"
            ]
          },
          "metadata": {
            "tags": []
          },
          "execution_count": 208
        }
      ]
    },
    {
      "cell_type": "markdown",
      "metadata": {
        "id": "_p3IuQ-S1gl4",
        "colab_type": "text"
      },
      "source": [
        ""
      ]
    },
    {
      "cell_type": "code",
      "metadata": {
        "id": "ZCJZYEJlGr3x",
        "colab_type": "code",
        "outputId": "a4c55f10-502e-4086-9675-c9c73ce6c7d0",
        "colab": {
          "base_uri": "https://localhost:8080/",
          "height": 404
        }
      },
      "source": [
        "false_pos_rate, true_pos_rate, thresholds = roc_curve(error_df.True_class, error_df.Reconstruction_error)\n",
        "roc_auc = auc(false_pos_rate, true_pos_rate,)\n",
        "\n",
        "plt.plot(false_pos_rate, true_pos_rate, linewidth=5, label='AUC = %0.3f'% roc_auc)\n",
        "plt.plot([0,1],[0,1], linewidth=5)\n",
        "\n",
        "plt.xlim([-0.01, 1])\n",
        "plt.ylim([0, 1.01])\n",
        "plt.legend(loc='lower right')\n",
        "plt.title('Receiver operating characteristic curve (ROC)')\n",
        "plt.ylabel('True Positive Rate')\n",
        "plt.xlabel('False Positive Rate')\n",
        "plt.show()"
      ],
      "execution_count": 0,
      "outputs": [
        {
          "output_type": "display_data",
          "data": {
            "image/png": "[encoded data removed]",
            "text/plain": [
              "<Figure size 576x432 with 1 Axes>"
            ]
          },
          "metadata": {
            "tags": []
          }
        }
      ]
    }
  ]
}